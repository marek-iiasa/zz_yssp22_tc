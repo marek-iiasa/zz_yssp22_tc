{
 "cells": [
  {
   "cell_type": "code",
   "execution_count": null,
   "metadata": {},
   "outputs": [],
   "source": [
    "# This script shows how to load the data of a scenario from excel.\n",
    "# 1) Importing required packages and specifying input data\n",
    "import ixmp as ix\n",
    "import message_ix\n",
    "from utilities.initialize_items import init_new_items"
   ]
  },
  {
   "cell_type": "code",
   "execution_count": null,
   "metadata": {},
   "outputs": [],
   "source": [
    "# Specifying model and scenario that we want to save in our database\n",
    "model = \"MESSAGE_CAS\"\n",
    "scenario = \"baseline\"\n",
    "\n",
    "# Path to the excel file\n",
    "xls_path = r'C:\\Users\\zakeri\\Github\\time_clustering\\scenario work\\data'  #update this path to yours\n",
    "\n",
    "# Excel file name\n",
    "file_name = 'MESSAGE_CASm__baseline_t12__v8.xlsx'\n",
    "\n",
    "xls_file = xls_path + '\\\\' + file_name"
   ]
  },
  {
   "cell_type": "code",
   "execution_count": null,
   "metadata": {},
   "outputs": [],
   "source": [
    "# 2) Loading a platform and creating a new empty scenario\n",
    "# 2.1) By loading local default database\n",
    "mp = ix.Platform()\n",
    "\n",
    "# 2.2)creating a new (empty) scenario\n",
    "sc = message_ix.Scenario(mp, model, scenario, version='new')"
   ]
  },
  {
   "cell_type": "code",
   "execution_count": null,
   "metadata": {},
   "outputs": [],
   "source": [
    "# 2.3) Initializing new sets and parameters\n",
    "init_new_items(sc)"
   ]
  },
  {
   "cell_type": "code",
   "execution_count": null,
   "metadata": {},
   "outputs": [],
   "source": [
    "# 3) Reading data from Excel\n",
    "sc.read_excel(xls_file, add_units=True, init_items=True, commit_steps=True)"
   ]
  },
  {
   "cell_type": "code",
   "execution_count": null,
   "metadata": {},
   "outputs": [],
   "source": [
    "# 4) Solving the model\n",
    "# An optional name for the scenario GDX files\n",
    "caseName = sc.model + '__' + sc.scenario + '__v' + str(sc.version)\n",
    "\n",
    "# Solving\n",
    "sc.solve(case=caseName, solve_options={'lpmethod': '4'})"
   ]
  }
 ],
 "metadata": {
  "kernelspec": {
   "display_name": "Python 3",
   "language": "python",
   "name": "python3"
  },
  "language_info": {
   "codemirror_mode": {
    "name": "ipython",
    "version": 3
   },
   "file_extension": ".py",
   "mimetype": "text/x-python",
   "name": "python",
   "nbconvert_exporter": "python",
   "pygments_lexer": "ipython3",
   "version": "3.8.5"
  }
 },
 "nbformat": 4,
 "nbformat_minor": 4
}
